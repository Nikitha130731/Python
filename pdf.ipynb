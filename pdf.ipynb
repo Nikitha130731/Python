{
 "cells": [
  {
   "cell_type": "code",
   "execution_count": 5,
   "id": "33eecaf3-6bd6-49c1-a600-5182d74ba3cb",
   "metadata": {},
   "outputs": [
    {
     "name": "stdout",
     "output_type": "stream",
     "text": [
      "Requirement already satisfied: pyPDF2 in /opt/anaconda3/lib/python3.11/site-packages (3.0.1)\n"
     ]
    }
   ],
   "source": [
    "!pip3 install pyPDF2 #installing libraray\n"
   ]
  },
  {
   "cell_type": "code",
   "execution_count": 21,
   "id": "61a470b3-5fd9-4821-adb9-88aa7b939724",
   "metadata": {},
   "outputs": [],
   "source": [
    "from PyPDF2 import PdfReader , PdfWriter"
   ]
  },
  {
   "cell_type": "code",
   "execution_count": 39,
   "id": "5c5d3282-0016-4be3-a765-9c726c871087",
   "metadata": {},
   "outputs": [],
   "source": [
    "# ## open the current pdf which we are going to set password\n",
    "# file_pdf = PdfReader('Vinitha Biodata.pdf')\n",
    "# ## object fro pdf writer\n",
    "# out_pdf = PdfWriter()\n",
    "\n",
    "\n",
    "# Specify the input and output PDF file paths\n",
    "input_pdf = 'Vinitha Biodata.pdf'\n",
    "output_pdf = 'Biodata.pdf'\n",
    "password = '1326'\n",
    "\n"
   ]
  },
  {
   "cell_type": "code",
   "execution_count": 41,
   "id": "0da3c9b6-cf9f-4cd8-8fc2-ae930ba817b5",
   "metadata": {},
   "outputs": [
    {
     "data": {
      "text/plain": [
       "<PyPDF2._reader.PdfReader at 0x14dd554d0>"
      ]
     },
     "execution_count": 41,
     "metadata": {},
     "output_type": "execute_result"
    }
   ],
   "source": [
    "file_pdf"
   ]
  },
  {
   "cell_type": "code",
   "execution_count": 43,
   "id": "8367771f-2c15-42f9-9c19-bfeffdabf002",
   "metadata": {},
   "outputs": [],
   "source": [
    "# Read the original PDF\n",
    "reader = PdfReader(input_pdf)\n",
    "writer = PdfWriter()\n"
   ]
  },
  {
   "cell_type": "code",
   "execution_count": 45,
   "id": "7f4622c7-e476-42cb-9086-4b7b4bda8302",
   "metadata": {},
   "outputs": [],
   "source": [
    "# Add all the pages to the writer object\n",
    "for i in range(len(reader.pages)):\n",
    "    page = reader.pages[i]\n",
    "    writer.add_page(page)\n"
   ]
  },
  {
   "cell_type": "code",
   "execution_count": 49,
   "id": "7a27609c-0560-4ecc-aff0-174de339733c",
   "metadata": {},
   "outputs": [],
   "source": [
    "# Encrypt the PDF with a password\n",
    "writer.encrypt(user_password=password)\n"
   ]
  },
  {
   "cell_type": "code",
   "execution_count": 51,
   "id": "aa8a6660-0c2e-4fd1-bfae-c967a5370e5c",
   "metadata": {},
   "outputs": [],
   "source": [
    "# Write the encrypted PDF to a new file\n",
    "with open(output_pdf, 'wb') as f:\n",
    "    writer.write(f)"
   ]
  },
  {
   "cell_type": "code",
   "execution_count": 53,
   "id": "5359259e-9045-4e26-a3ea-7eb754bdd7f4",
   "metadata": {},
   "outputs": [
    {
     "name": "stdout",
     "output_type": "stream",
     "text": [
      "PDF successfully encrypted and saved as Biodata.pdf\n"
     ]
    }
   ],
   "source": [
    "print(f'PDF successfully encrypted and saved as {output_pdf}')\n"
   ]
  },
  {
   "cell_type": "code",
   "execution_count": null,
   "id": "097552f5-0593-4d03-879b-f1525b50a833",
   "metadata": {},
   "outputs": [],
   "source": []
  },
  {
   "cell_type": "code",
   "execution_count": 37,
   "id": "b4f63212-4289-4de3-82ad-4ff1127fdec6",
   "metadata": {},
   "outputs": [
    {
     "ename": "TypeError",
     "evalue": "object of type 'property' has no len()",
     "output_type": "error",
     "traceback": [
      "\u001b[0;31m---------------------------------------------------------------------------\u001b[0m",
      "\u001b[0;31mTypeError\u001b[0m                                 Traceback (most recent call last)",
      "Cell \u001b[0;32mIn[37], line 2\u001b[0m\n\u001b[1;32m      1\u001b[0m \u001b[38;5;66;03m# to get number of apges\u001b[39;00m\n\u001b[0;32m----> 2\u001b[0m \u001b[38;5;28mlen\u001b[39m(PdfReader\u001b[38;5;241m.\u001b[39mpages)\n",
      "\u001b[0;31mTypeError\u001b[0m: object of type 'property' has no len()"
     ]
    }
   ],
   "source": [
    "\n",
    "\n",
    "# # Specify the input and output PDF file paths\n",
    "# input_pdf = 'input.pdf'\n",
    "# output_pdf = 'protected_output.pdf'\n",
    "# password = 'yourpassword'\n",
    "\n",
    "# # Read the original PDF\n",
    "# reader = PdfReader(input_pdf)\n",
    "# writer = PdfWriter()\n",
    "\n",
    "# # Add all the pages to the writer object\n",
    "# for page_num in range(len(reader.pages)):\n",
    "#     page = reader.pages[page_num]\n",
    "#     writer.add_page(page)\n",
    "\n",
    "# # Encrypt the PDF with a password\n",
    "# writer.encrypt(user_pwd=password, owner_pwd=None, use_128bit=True)\n",
    "\n",
    "# # Write the encrypted PDF to a new file\n",
    "# with open(output_pdf, 'wb') as f:\n",
    "#     writer.write(f)\n",
    "\n",
    "# print(f'PDF successfully encrypted and saved as {output_pdf}')\n"
   ]
  },
  {
   "cell_type": "code",
   "execution_count": null,
   "id": "4067666d-f06b-4e2b-8344-dba5a7df0511",
   "metadata": {},
   "outputs": [],
   "source": []
  }
 ],
 "metadata": {
  "kernelspec": {
   "display_name": "Python 3 (ipykernel)",
   "language": "python",
   "name": "python3"
  },
  "language_info": {
   "codemirror_mode": {
    "name": "ipython",
    "version": 3
   },
   "file_extension": ".py",
   "mimetype": "text/x-python",
   "name": "python",
   "nbconvert_exporter": "python",
   "pygments_lexer": "ipython3",
   "version": "3.11.7"
  }
 },
 "nbformat": 4,
 "nbformat_minor": 5
}
